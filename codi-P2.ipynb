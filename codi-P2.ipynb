{
 "cells": [
  {
   "cell_type": "markdown",
   "metadata": {},
   "source": [
    "# Apartat (B): Classificació Numèrica (6pts)"
   ]
  },
  {
   "cell_type": "markdown",
   "metadata": {},
   "source": [
    "### 1. EDA (exploratory data analysis)"
   ]
  },
  {
   "cell_type": "markdown",
   "metadata": {},
   "source": []
  },
  {
   "cell_type": "code",
   "execution_count": 117,
   "metadata": {},
   "outputs": [],
   "source": [
    "# afegim llibreries necessaries\n",
    "from sklearn.datasets import make_regression\n",
    "import numpy as np\n",
    "import pandas as pd\n",
    "%matplotlib inline\n",
    "from matplotlib import pyplot as plt\n",
    "import scipy.stats\n",
    "import seaborn as sns\n",
    "from sklearn.impute import SimpleImputer\n",
    "from sklearn import preprocessing\n",
    "import sklearn\n",
    "\n",
    "\n",
    "# visualitzarem només 3 decimals per mostra\n",
    "pd.set_option('display.float_format', lambda x: '%.3f' % x)\n",
    "\n",
    "# llegim les dades del csv\n",
    "def load_dataset(path):\n",
    "    dataset = pd.read_csv(path, header=0, delimiter=',')\n",
    "    return dataset\n",
    "\n",
    "# carreguem dataset \n",
    "dataset = load_dataset('water_potability.csv')\n",
    "data = dataset.values"
   ]
  },
  {
   "cell_type": "code",
   "execution_count": 118,
   "metadata": {},
   "outputs": [
    {
     "data": {
      "text/html": [
       "<div>\n",
       "<style scoped>\n",
       "    .dataframe tbody tr th:only-of-type {\n",
       "        vertical-align: middle;\n",
       "    }\n",
       "\n",
       "    .dataframe tbody tr th {\n",
       "        vertical-align: top;\n",
       "    }\n",
       "\n",
       "    .dataframe thead th {\n",
       "        text-align: right;\n",
       "    }\n",
       "</style>\n",
       "<table border=\"1\" class=\"dataframe\">\n",
       "  <thead>\n",
       "    <tr style=\"text-align: right;\">\n",
       "      <th></th>\n",
       "      <th>ph</th>\n",
       "      <th>Hardness</th>\n",
       "      <th>Solids</th>\n",
       "      <th>Chloramines</th>\n",
       "      <th>Sulfate</th>\n",
       "      <th>Conductivity</th>\n",
       "      <th>Organic_carbon</th>\n",
       "      <th>Trihalomethanes</th>\n",
       "      <th>Turbidity</th>\n",
       "      <th>Potability</th>\n",
       "    </tr>\n",
       "  </thead>\n",
       "  <tbody>\n",
       "    <tr>\n",
       "      <th>0</th>\n",
       "      <td>NaN</td>\n",
       "      <td>204.890</td>\n",
       "      <td>20791.319</td>\n",
       "      <td>7.300</td>\n",
       "      <td>368.516</td>\n",
       "      <td>564.309</td>\n",
       "      <td>10.380</td>\n",
       "      <td>86.991</td>\n",
       "      <td>2.963</td>\n",
       "      <td>0</td>\n",
       "    </tr>\n",
       "    <tr>\n",
       "      <th>1</th>\n",
       "      <td>3.716</td>\n",
       "      <td>129.423</td>\n",
       "      <td>18630.058</td>\n",
       "      <td>6.635</td>\n",
       "      <td>NaN</td>\n",
       "      <td>592.885</td>\n",
       "      <td>15.180</td>\n",
       "      <td>56.329</td>\n",
       "      <td>4.501</td>\n",
       "      <td>0</td>\n",
       "    </tr>\n",
       "    <tr>\n",
       "      <th>2</th>\n",
       "      <td>8.099</td>\n",
       "      <td>224.236</td>\n",
       "      <td>19909.542</td>\n",
       "      <td>9.276</td>\n",
       "      <td>NaN</td>\n",
       "      <td>418.606</td>\n",
       "      <td>16.869</td>\n",
       "      <td>66.420</td>\n",
       "      <td>3.056</td>\n",
       "      <td>0</td>\n",
       "    </tr>\n",
       "    <tr>\n",
       "      <th>3</th>\n",
       "      <td>8.317</td>\n",
       "      <td>214.373</td>\n",
       "      <td>22018.417</td>\n",
       "      <td>8.059</td>\n",
       "      <td>356.886</td>\n",
       "      <td>363.267</td>\n",
       "      <td>18.437</td>\n",
       "      <td>100.342</td>\n",
       "      <td>4.629</td>\n",
       "      <td>0</td>\n",
       "    </tr>\n",
       "    <tr>\n",
       "      <th>4</th>\n",
       "      <td>9.092</td>\n",
       "      <td>181.102</td>\n",
       "      <td>17978.986</td>\n",
       "      <td>6.547</td>\n",
       "      <td>310.136</td>\n",
       "      <td>398.411</td>\n",
       "      <td>11.558</td>\n",
       "      <td>31.998</td>\n",
       "      <td>4.075</td>\n",
       "      <td>0</td>\n",
       "    </tr>\n",
       "    <tr>\n",
       "      <th>...</th>\n",
       "      <td>...</td>\n",
       "      <td>...</td>\n",
       "      <td>...</td>\n",
       "      <td>...</td>\n",
       "      <td>...</td>\n",
       "      <td>...</td>\n",
       "      <td>...</td>\n",
       "      <td>...</td>\n",
       "      <td>...</td>\n",
       "      <td>...</td>\n",
       "    </tr>\n",
       "    <tr>\n",
       "      <th>3271</th>\n",
       "      <td>4.668</td>\n",
       "      <td>193.682</td>\n",
       "      <td>47580.992</td>\n",
       "      <td>7.167</td>\n",
       "      <td>359.949</td>\n",
       "      <td>526.424</td>\n",
       "      <td>13.894</td>\n",
       "      <td>66.688</td>\n",
       "      <td>4.436</td>\n",
       "      <td>1</td>\n",
       "    </tr>\n",
       "    <tr>\n",
       "      <th>3272</th>\n",
       "      <td>7.809</td>\n",
       "      <td>193.553</td>\n",
       "      <td>17329.802</td>\n",
       "      <td>8.061</td>\n",
       "      <td>NaN</td>\n",
       "      <td>392.450</td>\n",
       "      <td>19.903</td>\n",
       "      <td>NaN</td>\n",
       "      <td>2.798</td>\n",
       "      <td>1</td>\n",
       "    </tr>\n",
       "    <tr>\n",
       "      <th>3273</th>\n",
       "      <td>9.420</td>\n",
       "      <td>175.763</td>\n",
       "      <td>33155.578</td>\n",
       "      <td>7.350</td>\n",
       "      <td>NaN</td>\n",
       "      <td>432.045</td>\n",
       "      <td>11.039</td>\n",
       "      <td>69.845</td>\n",
       "      <td>3.299</td>\n",
       "      <td>1</td>\n",
       "    </tr>\n",
       "    <tr>\n",
       "      <th>3274</th>\n",
       "      <td>5.127</td>\n",
       "      <td>230.604</td>\n",
       "      <td>11983.869</td>\n",
       "      <td>6.303</td>\n",
       "      <td>NaN</td>\n",
       "      <td>402.883</td>\n",
       "      <td>11.169</td>\n",
       "      <td>77.488</td>\n",
       "      <td>4.709</td>\n",
       "      <td>1</td>\n",
       "    </tr>\n",
       "    <tr>\n",
       "      <th>3275</th>\n",
       "      <td>7.875</td>\n",
       "      <td>195.102</td>\n",
       "      <td>17404.177</td>\n",
       "      <td>7.509</td>\n",
       "      <td>NaN</td>\n",
       "      <td>327.460</td>\n",
       "      <td>16.140</td>\n",
       "      <td>78.698</td>\n",
       "      <td>2.309</td>\n",
       "      <td>1</td>\n",
       "    </tr>\n",
       "  </tbody>\n",
       "</table>\n",
       "<p>3276 rows × 10 columns</p>\n",
       "</div>"
      ],
      "text/plain": [
       "        ph  Hardness    Solids  Chloramines  Sulfate  Conductivity  \\\n",
       "0      NaN   204.890 20791.319        7.300  368.516       564.309   \n",
       "1    3.716   129.423 18630.058        6.635      NaN       592.885   \n",
       "2    8.099   224.236 19909.542        9.276      NaN       418.606   \n",
       "3    8.317   214.373 22018.417        8.059  356.886       363.267   \n",
       "4    9.092   181.102 17978.986        6.547  310.136       398.411   \n",
       "...    ...       ...       ...          ...      ...           ...   \n",
       "3271 4.668   193.682 47580.992        7.167  359.949       526.424   \n",
       "3272 7.809   193.553 17329.802        8.061      NaN       392.450   \n",
       "3273 9.420   175.763 33155.578        7.350      NaN       432.045   \n",
       "3274 5.127   230.604 11983.869        6.303      NaN       402.883   \n",
       "3275 7.875   195.102 17404.177        7.509      NaN       327.460   \n",
       "\n",
       "      Organic_carbon  Trihalomethanes  Turbidity  Potability  \n",
       "0             10.380           86.991      2.963           0  \n",
       "1             15.180           56.329      4.501           0  \n",
       "2             16.869           66.420      3.056           0  \n",
       "3             18.437          100.342      4.629           0  \n",
       "4             11.558           31.998      4.075           0  \n",
       "...              ...              ...        ...         ...  \n",
       "3271          13.894           66.688      4.436           1  \n",
       "3272          19.903              NaN      2.798           1  \n",
       "3273          11.039           69.845      3.299           1  \n",
       "3274          11.169           77.488      4.709           1  \n",
       "3275          16.140           78.698      2.309           1  \n",
       "\n",
       "[3276 rows x 10 columns]"
      ]
     },
     "execution_count": 118,
     "metadata": {},
     "output_type": "execute_result"
    }
   ],
   "source": [
    "dataset"
   ]
  },
  {
   "cell_type": "code",
   "execution_count": 119,
   "metadata": {},
   "outputs": [
    {
     "name": "stdout",
     "output_type": "stream",
     "text": [
      "Dimensió base de dades:  (3276, 10)\n",
      "Número de atributs:  10\n"
     ]
    }
   ],
   "source": [
    "print(\"Dimensió base de dades: \", dataset.shape)\n",
    "print(\"Número de atributs: \", dataset.columns.size)"
   ]
  },
  {
   "cell_type": "code",
   "execution_count": 120,
   "metadata": {},
   "outputs": [
    {
     "name": "stdout",
     "output_type": "stream",
     "text": [
      "Tipus d'atributs:\n"
     ]
    },
    {
     "data": {
      "text/plain": [
       "ph                 float64\n",
       "Hardness           float64\n",
       "Solids             float64\n",
       "Chloramines        float64\n",
       "Sulfate            float64\n",
       "Conductivity       float64\n",
       "Organic_carbon     float64\n",
       "Trihalomethanes    float64\n",
       "Turbidity          float64\n",
       "Potability           int64\n",
       "dtype: object"
      ]
     },
     "execution_count": 120,
     "metadata": {},
     "output_type": "execute_result"
    }
   ],
   "source": [
    "print(\"Tipus d'atributs:\")\n",
    "dataset.dtypes"
   ]
  },
  {
   "cell_type": "code",
   "execution_count": 121,
   "metadata": {},
   "outputs": [
    {
     "data": {
      "text/plain": [
       "0    1998\n",
       "1    1278\n",
       "Name: Potability, dtype: int64"
      ]
     },
     "execution_count": 121,
     "metadata": {},
     "output_type": "execute_result"
    }
   ],
   "source": [
    "#categoria1 = dataset[dataset.Potability == 0]\n",
    "#categoria2 = dataset[dataset.Potability == 1]\n",
    "#print(\"Categoria 1: \", categoria1[\"Potability\"].count())\n",
    "#print(\"Categoria 2: \", categoria2[\"Potability\"].count())\n",
    "\n",
    "target = pd.Index(dataset['Potability'])\n",
    "target.value_counts()"
   ]
  },
  {
   "cell_type": "code",
   "execution_count": 122,
   "metadata": {},
   "outputs": [
    {
     "data": {
      "image/png": "[encoded data removed]",
      "text/plain": [
       "<Figure size 432x288 with 2 Axes>"
      ]
     },
     "metadata": {
      "needs_background": "light"
     },
     "output_type": "display_data"
    }
   ],
   "source": [
    "correlacio = dataset.corr()\n",
    "plt.figure()\n",
    "ax = sns.heatmap(correlacio, annot=True, annot_kws={\"size\": 6.5})"
   ]
  },
  {
   "cell_type": "code",
   "execution_count": 123,
   "metadata": {},
   "outputs": [
    {
     "data": {
      "image/png": "[encoded data removed]",
      "text/plain": [
       "<Figure size 432x288 with 1 Axes>"
      ]
     },
     "metadata": {},
     "output_type": "display_data"
    }
   ],
   "source": [
    "potable = dataset[dataset.Potability == 1]\n",
    "noPotable = dataset[dataset.Potability == 0]\n",
    "\n",
    "fig,ax1 = plt.subplots()\n",
    "labels = 'Potable', 'No potable'\n",
    "ax1.pie([potable.shape[0],noPotable.shape[0]], labels=labels, autopct='%1.1f%%', shadow=True, startangle=90)\n",
    "ax1.axis('equal')\n",
    "\n",
    "plt.show()"
   ]
  },
  {
   "cell_type": "markdown",
   "metadata": {},
   "source": [
    "### 2. Prepocessing (normalitzation, outlier removal, feature selection..)"
   ]
  },
  {
   "cell_type": "code",
   "execution_count": 124,
   "metadata": {},
   "outputs": [
    {
     "data": {
      "text/plain": [
       "ph                 491\n",
       "Hardness             0\n",
       "Solids               0\n",
       "Chloramines          0\n",
       "Sulfate            781\n",
       "Conductivity         0\n",
       "Organic_carbon       0\n",
       "Trihalomethanes    162\n",
       "Turbidity            0\n",
       "Potability           0\n",
       "dtype: int64"
      ]
     },
     "execution_count": 124,
     "metadata": {},
     "output_type": "execute_result"
    }
   ],
   "source": [
    "dataset.isnull().sum()"
   ]
  },
  {
   "cell_type": "code",
   "execution_count": 125,
   "metadata": {},
   "outputs": [],
   "source": [
    "dataset['ph'].fillna(value=dataset['ph'].median(),inplace=True)\n",
    "dataset['Sulfate'].fillna(value=dataset['Sulfate'].median(),inplace=True)\n",
    "dataset['Trihalomethanes'].fillna(value=dataset['Trihalomethanes'].median(),inplace=True)"
   ]
  },
  {
   "cell_type": "code",
   "execution_count": 126,
   "metadata": {},
   "outputs": [
    {
     "data": {
      "text/plain": [
       "ph                 0\n",
       "Hardness           0\n",
       "Solids             0\n",
       "Chloramines        0\n",
       "Sulfate            0\n",
       "Conductivity       0\n",
       "Organic_carbon     0\n",
       "Trihalomethanes    0\n",
       "Turbidity          0\n",
       "Potability         0\n",
       "dtype: int64"
      ]
     },
     "execution_count": 126,
     "metadata": {},
     "output_type": "execute_result"
    }
   ],
   "source": [
    "dataset.isnull().sum()"
   ]
  },
  {
   "cell_type": "code",
   "execution_count": 127,
   "metadata": {},
   "outputs": [],
   "source": [
    "#imp = SimpleImputer(missing_values=np.nan, strategy='mean')\n",
    "#imp.fit(([[1, 2, 3, 4, 5, 6, 7, np.nan, 9, 10], [np.nan, 3, 3, 4, 5, 6, 7, 8, 9, 10], [7, np.nan, 3, 4, 5, 6, 7, 8, 9, 10]]))\n",
    "#SimpleImputer()\n",
    "#X = dataset \n",
    "#print(imp.transform(X))\n",
    "#lo de los nans el enunciado pone que se puede hacer con esto pero no he consrguido que funcione y he encontrado eso de fillna"
   ]
  },
  {
   "cell_type": "code",
   "execution_count": 132,
   "metadata": {},
   "outputs": [
    {
     "data": {
      "image/png": "[encoded data removed]",
      "text/plain": [
       "<Figure size 360x360 with 1 Axes>"
      ]
     },
     "metadata": {
      "needs_background": "light"
     },
     "output_type": "display_data"
    },
    {
     "data": {
      "image/png": "[encoded data removed]",
      "text/plain": [
       "<Figure size 432x288 with 1 Axes>"
      ]
     },
     "metadata": {
      "needs_background": "light"
     },
     "output_type": "display_data"
    },
    {
     "data": {
      "image/png": "[encoded data removed]",
      "text/plain": [
       "<Figure size 360x360 with 1 Axes>"
      ]
     },
     "metadata": {
      "needs_background": "light"
     },
     "output_type": "display_data"
    },
    {
     "data": {
      "image/png": "[encoded data removed]",
      "text/plain": [
       "<Figure size 432x288 with 1 Axes>"
      ]
     },
     "metadata": {
      "needs_background": "light"
     },
     "output_type": "display_data"
    }
   ],
   "source": [
    "#outlier removal\n",
    "sns.displot(dataset['ph'], binwidth=1, multiple=\"stack\")\n",
    "plt.show()\n",
    "\n",
    "sns.boxplot(dataset['ph'])\n",
    "plt.show()\n",
    "\n",
    "sns.displot(dataset['Sulfate'], binwidth=10, multiple=\"stack\")\n",
    "plt.show()\n",
    "\n",
    "sns.boxplot(dataset['Sulfate'])\n",
    "plt.show()\n"
   ]
  },
  {
   "cell_type": "code",
   "execution_count": 110,
   "metadata": {},
   "outputs": [
    {
     "data": {
      "image/png": "[encoded data removed]",
      "text/plain": [
       "<Figure size 402.25x360 with 1 Axes>"
      ]
     },
     "metadata": {
      "needs_background": "light"
     },
     "output_type": "display_data"
    },
    {
     "data": {
      "image/png": "[encoded data removed]",
      "text/plain": [
       "<Figure size 432x288 with 1 Axes>"
      ]
     },
     "metadata": {
      "needs_background": "light"
     },
     "output_type": "display_data"
    }
   ],
   "source": [
    "#normalitzacio de dades utilitzant preprocessing\n",
    "data = dataset.values\n",
    "\n",
    "x = data[:,[0,1,2,3,4,5,6,7,8]]\n",
    "y = data[:,9]\n",
    "x_train, x_test, y_train, y_test = sklearn.model_selection.train_test_split(x,y, test_size=0.20, random_state=39) #39\n",
    "\n",
    "scaler = preprocessing.StandardScaler().fit(x_train)\n",
    "x_scaled = scaler.transform(x_train)\n",
    "\n",
    "print(x_scaled)\n"
   ]
  },
  {
   "cell_type": "code",
   "execution_count": null,
   "metadata": {},
   "outputs": [],
   "source": []
  }
 ],
 "metadata": {
  "kernelspec": {
   "display_name": "Python 3",
   "language": "python",
   "name": "python3"
  },
  "language_info": {
   "codemirror_mode": {
    "name": "ipython",
    "version": 3
   },
   "file_extension": ".py",
   "mimetype": "text/x-python",
   "name": "python",
   "nbconvert_exporter": "python",
   "pygments_lexer": "ipython3",
   "version": "3.8.10"
  }
 },
 "nbformat": 4,
 "nbformat_minor": 5
}
